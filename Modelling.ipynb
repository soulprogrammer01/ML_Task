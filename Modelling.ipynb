{
  "cells": [
    {
      "cell_type": "code",
      "execution_count": 2,
      "metadata": {
        "id": "DLJtn8b3e26z"
      },
      "outputs": [],
      "source": [
        "import pandas as pd\n",
        "import numpy as np\n",
        "import sklearn\n",
        "import seaborn as sns"
      ]
    },
    {
      "cell_type": "code",
      "source": [
        "from google.colab import drive\n",
        "drive.mount('/content/drive')"
      ],
      "metadata": {
        "id": "0ZQeprBbKA2U"
      },
      "execution_count": null,
      "outputs": []
    },
    {
      "cell_type": "code",
      "execution_count": 4,
      "metadata": {
        "id": "QqdUJmA8fJFr"
      },
      "outputs": [],
      "source": [
        "data= pd.read_csv('/content/drive/MyDrive/Sampled_data.csv')"
      ]
    },
    {
      "cell_type": "code",
      "execution_count": 5,
      "metadata": {
        "colab": {
          "base_uri": "https://localhost:8080/",
          "height": 404
        },
        "id": "xeA6SeY0fRYg",
        "outputId": "b55a0daa-5d21-4013-a60a-bdb0a10f9fcb"
      },
      "outputs": [
        {
          "output_type": "execute_result",
          "data": {
            "text/plain": [
              "   Unnamed: 0  Unnamed: 0.1               ddl_case_id  year  state_code  \\\n",
              "0           0             0  01-01-01-203408001402010  2010           1   \n",
              "1           1             1  01-01-01-203408003852010  2010           1   \n",
              "2           2             2  01-01-01-203408004512010  2010           1   \n",
              "3           3             3  01-01-01-203408005632010  2010           1   \n",
              "4           4             4  01-01-01-203408007652010  2010           1   \n",
              "\n",
              "   dist_code  court_no              cino             judge_position  \\\n",
              "0          1         1  MHNB030001842010  chief judicial magistrate   \n",
              "1          1         1  MHNB030005702010  chief judicial magistrate   \n",
              "2          1         1  MHNB030006852010  chief judicial magistrate   \n",
              "3          1         1  MHNB030008512010  chief judicial magistrate   \n",
              "4          1         1  MHNB030010672010  chief judicial magistrate   \n",
              "\n",
              "  female_defendant  ... female_adv_def  female_adv_pet  type_name  \\\n",
              "0           0 male  ...          -9999           -9999       4400   \n",
              "1           0 male  ...          -9998               0       4400   \n",
              "2           0 male  ...          -9999           -9998       4400   \n",
              "3           0 male  ...              0               0       4400   \n",
              "4           0 male  ...              0               0       4400   \n",
              "\n",
              "   purpose_name  disp_name  date_of_filing date_of_decision date_first_list  \\\n",
              "0        3734.0         19      2010-02-23       2010-02-23      2010-02-23   \n",
              "1        3280.0         30      2010-06-17       2013-10-17      2010-07-17   \n",
              "2        4834.0         22      2010-07-08       2014-09-16      2010-07-21   \n",
              "3        3280.0          4      2010-08-18       2015-01-02      2010-09-06   \n",
              "4        3439.0         25      2010-11-12       2013-11-22      2010-12-01   \n",
              "\n",
              "  date_last_list date_next_list  \n",
              "0     2010-02-23     2010-02-23  \n",
              "1     2013-10-03     2013-10-17  \n",
              "2     2014-08-19     2014-09-16  \n",
              "3     2014-12-16     2015-01-02  \n",
              "4     2013-10-25     2013-11-22  \n",
              "\n",
              "[5 rows x 21 columns]"
            ],
            "text/html": [
              "\n",
              "  <div id=\"df-cad7e215-e4ad-4b7f-9b4f-54893040eb21\">\n",
              "    <div class=\"colab-df-container\">\n",
              "      <div>\n",
              "<style scoped>\n",
              "    .dataframe tbody tr th:only-of-type {\n",
              "        vertical-align: middle;\n",
              "    }\n",
              "\n",
              "    .dataframe tbody tr th {\n",
              "        vertical-align: top;\n",
              "    }\n",
              "\n",
              "    .dataframe thead th {\n",
              "        text-align: right;\n",
              "    }\n",
              "</style>\n",
              "<table border=\"1\" class=\"dataframe\">\n",
              "  <thead>\n",
              "    <tr style=\"text-align: right;\">\n",
              "      <th></th>\n",
              "      <th>Unnamed: 0</th>\n",
              "      <th>Unnamed: 0.1</th>\n",
              "      <th>ddl_case_id</th>\n",
              "      <th>year</th>\n",
              "      <th>state_code</th>\n",
              "      <th>dist_code</th>\n",
              "      <th>court_no</th>\n",
              "      <th>cino</th>\n",
              "      <th>judge_position</th>\n",
              "      <th>female_defendant</th>\n",
              "      <th>...</th>\n",
              "      <th>female_adv_def</th>\n",
              "      <th>female_adv_pet</th>\n",
              "      <th>type_name</th>\n",
              "      <th>purpose_name</th>\n",
              "      <th>disp_name</th>\n",
              "      <th>date_of_filing</th>\n",
              "      <th>date_of_decision</th>\n",
              "      <th>date_first_list</th>\n",
              "      <th>date_last_list</th>\n",
              "      <th>date_next_list</th>\n",
              "    </tr>\n",
              "  </thead>\n",
              "  <tbody>\n",
              "    <tr>\n",
              "      <th>0</th>\n",
              "      <td>0</td>\n",
              "      <td>0</td>\n",
              "      <td>01-01-01-203408001402010</td>\n",
              "      <td>2010</td>\n",
              "      <td>1</td>\n",
              "      <td>1</td>\n",
              "      <td>1</td>\n",
              "      <td>MHNB030001842010</td>\n",
              "      <td>chief judicial magistrate</td>\n",
              "      <td>0 male</td>\n",
              "      <td>...</td>\n",
              "      <td>-9999</td>\n",
              "      <td>-9999</td>\n",
              "      <td>4400</td>\n",
              "      <td>3734.0</td>\n",
              "      <td>19</td>\n",
              "      <td>2010-02-23</td>\n",
              "      <td>2010-02-23</td>\n",
              "      <td>2010-02-23</td>\n",
              "      <td>2010-02-23</td>\n",
              "      <td>2010-02-23</td>\n",
              "    </tr>\n",
              "    <tr>\n",
              "      <th>1</th>\n",
              "      <td>1</td>\n",
              "      <td>1</td>\n",
              "      <td>01-01-01-203408003852010</td>\n",
              "      <td>2010</td>\n",
              "      <td>1</td>\n",
              "      <td>1</td>\n",
              "      <td>1</td>\n",
              "      <td>MHNB030005702010</td>\n",
              "      <td>chief judicial magistrate</td>\n",
              "      <td>0 male</td>\n",
              "      <td>...</td>\n",
              "      <td>-9998</td>\n",
              "      <td>0</td>\n",
              "      <td>4400</td>\n",
              "      <td>3280.0</td>\n",
              "      <td>30</td>\n",
              "      <td>2010-06-17</td>\n",
              "      <td>2013-10-17</td>\n",
              "      <td>2010-07-17</td>\n",
              "      <td>2013-10-03</td>\n",
              "      <td>2013-10-17</td>\n",
              "    </tr>\n",
              "    <tr>\n",
              "      <th>2</th>\n",
              "      <td>2</td>\n",
              "      <td>2</td>\n",
              "      <td>01-01-01-203408004512010</td>\n",
              "      <td>2010</td>\n",
              "      <td>1</td>\n",
              "      <td>1</td>\n",
              "      <td>1</td>\n",
              "      <td>MHNB030006852010</td>\n",
              "      <td>chief judicial magistrate</td>\n",
              "      <td>0 male</td>\n",
              "      <td>...</td>\n",
              "      <td>-9999</td>\n",
              "      <td>-9998</td>\n",
              "      <td>4400</td>\n",
              "      <td>4834.0</td>\n",
              "      <td>22</td>\n",
              "      <td>2010-07-08</td>\n",
              "      <td>2014-09-16</td>\n",
              "      <td>2010-07-21</td>\n",
              "      <td>2014-08-19</td>\n",
              "      <td>2014-09-16</td>\n",
              "    </tr>\n",
              "    <tr>\n",
              "      <th>3</th>\n",
              "      <td>3</td>\n",
              "      <td>3</td>\n",
              "      <td>01-01-01-203408005632010</td>\n",
              "      <td>2010</td>\n",
              "      <td>1</td>\n",
              "      <td>1</td>\n",
              "      <td>1</td>\n",
              "      <td>MHNB030008512010</td>\n",
              "      <td>chief judicial magistrate</td>\n",
              "      <td>0 male</td>\n",
              "      <td>...</td>\n",
              "      <td>0</td>\n",
              "      <td>0</td>\n",
              "      <td>4400</td>\n",
              "      <td>3280.0</td>\n",
              "      <td>4</td>\n",
              "      <td>2010-08-18</td>\n",
              "      <td>2015-01-02</td>\n",
              "      <td>2010-09-06</td>\n",
              "      <td>2014-12-16</td>\n",
              "      <td>2015-01-02</td>\n",
              "    </tr>\n",
              "    <tr>\n",
              "      <th>4</th>\n",
              "      <td>4</td>\n",
              "      <td>4</td>\n",
              "      <td>01-01-01-203408007652010</td>\n",
              "      <td>2010</td>\n",
              "      <td>1</td>\n",
              "      <td>1</td>\n",
              "      <td>1</td>\n",
              "      <td>MHNB030010672010</td>\n",
              "      <td>chief judicial magistrate</td>\n",
              "      <td>0 male</td>\n",
              "      <td>...</td>\n",
              "      <td>0</td>\n",
              "      <td>0</td>\n",
              "      <td>4400</td>\n",
              "      <td>3439.0</td>\n",
              "      <td>25</td>\n",
              "      <td>2010-11-12</td>\n",
              "      <td>2013-11-22</td>\n",
              "      <td>2010-12-01</td>\n",
              "      <td>2013-10-25</td>\n",
              "      <td>2013-11-22</td>\n",
              "    </tr>\n",
              "  </tbody>\n",
              "</table>\n",
              "<p>5 rows × 21 columns</p>\n",
              "</div>\n",
              "      <button class=\"colab-df-convert\" onclick=\"convertToInteractive('df-cad7e215-e4ad-4b7f-9b4f-54893040eb21')\"\n",
              "              title=\"Convert this dataframe to an interactive table.\"\n",
              "              style=\"display:none;\">\n",
              "        \n",
              "  <svg xmlns=\"http://www.w3.org/2000/svg\" height=\"24px\"viewBox=\"0 0 24 24\"\n",
              "       width=\"24px\">\n",
              "    <path d=\"M0 0h24v24H0V0z\" fill=\"none\"/>\n",
              "    <path d=\"M18.56 5.44l.94 2.06.94-2.06 2.06-.94-2.06-.94-.94-2.06-.94 2.06-2.06.94zm-11 1L8.5 8.5l.94-2.06 2.06-.94-2.06-.94L8.5 2.5l-.94 2.06-2.06.94zm10 10l.94 2.06.94-2.06 2.06-.94-2.06-.94-.94-2.06-.94 2.06-2.06.94z\"/><path d=\"M17.41 7.96l-1.37-1.37c-.4-.4-.92-.59-1.43-.59-.52 0-1.04.2-1.43.59L10.3 9.45l-7.72 7.72c-.78.78-.78 2.05 0 2.83L4 21.41c.39.39.9.59 1.41.59.51 0 1.02-.2 1.41-.59l7.78-7.78 2.81-2.81c.8-.78.8-2.07 0-2.86zM5.41 20L4 18.59l7.72-7.72 1.47 1.35L5.41 20z\"/>\n",
              "  </svg>\n",
              "      </button>\n",
              "      \n",
              "  <style>\n",
              "    .colab-df-container {\n",
              "      display:flex;\n",
              "      flex-wrap:wrap;\n",
              "      gap: 12px;\n",
              "    }\n",
              "\n",
              "    .colab-df-convert {\n",
              "      background-color: #E8F0FE;\n",
              "      border: none;\n",
              "      border-radius: 50%;\n",
              "      cursor: pointer;\n",
              "      display: none;\n",
              "      fill: #1967D2;\n",
              "      height: 32px;\n",
              "      padding: 0 0 0 0;\n",
              "      width: 32px;\n",
              "    }\n",
              "\n",
              "    .colab-df-convert:hover {\n",
              "      background-color: #E2EBFA;\n",
              "      box-shadow: 0px 1px 2px rgba(60, 64, 67, 0.3), 0px 1px 3px 1px rgba(60, 64, 67, 0.15);\n",
              "      fill: #174EA6;\n",
              "    }\n",
              "\n",
              "    [theme=dark] .colab-df-convert {\n",
              "      background-color: #3B4455;\n",
              "      fill: #D2E3FC;\n",
              "    }\n",
              "\n",
              "    [theme=dark] .colab-df-convert:hover {\n",
              "      background-color: #434B5C;\n",
              "      box-shadow: 0px 1px 3px 1px rgba(0, 0, 0, 0.15);\n",
              "      filter: drop-shadow(0px 1px 2px rgba(0, 0, 0, 0.3));\n",
              "      fill: #FFFFFF;\n",
              "    }\n",
              "  </style>\n",
              "\n",
              "      <script>\n",
              "        const buttonEl =\n",
              "          document.querySelector('#df-cad7e215-e4ad-4b7f-9b4f-54893040eb21 button.colab-df-convert');\n",
              "        buttonEl.style.display =\n",
              "          google.colab.kernel.accessAllowed ? 'block' : 'none';\n",
              "\n",
              "        async function convertToInteractive(key) {\n",
              "          const element = document.querySelector('#df-cad7e215-e4ad-4b7f-9b4f-54893040eb21');\n",
              "          const dataTable =\n",
              "            await google.colab.kernel.invokeFunction('convertToInteractive',\n",
              "                                                     [key], {});\n",
              "          if (!dataTable) return;\n",
              "\n",
              "          const docLinkHtml = 'Like what you see? Visit the ' +\n",
              "            '<a target=\"_blank\" href=https://colab.research.google.com/notebooks/data_table.ipynb>data table notebook</a>'\n",
              "            + ' to learn more about interactive tables.';\n",
              "          element.innerHTML = '';\n",
              "          dataTable['output_type'] = 'display_data';\n",
              "          await google.colab.output.renderOutput(dataTable, element);\n",
              "          const docLink = document.createElement('div');\n",
              "          docLink.innerHTML = docLinkHtml;\n",
              "          element.appendChild(docLink);\n",
              "        }\n",
              "      </script>\n",
              "    </div>\n",
              "  </div>\n",
              "  "
            ]
          },
          "metadata": {},
          "execution_count": 5
        }
      ],
      "source": [
        "data.head(5)"
      ]
    },
    {
      "cell_type": "markdown",
      "metadata": {
        "id": "cuuvm7u9-n-t"
      },
      "source": [
        "# **Identifying Classification Problem 1**\n",
        "<br>We can use this dataset to predict whether a particular defendant under a given judge will be male, female or other.\n",
        "\n",
        "We will create a a dataset of independant variable X with the data of 'judge_position' column."
      ]
    },
    {
      "cell_type": "code",
      "execution_count": 6,
      "metadata": {
        "id": "KnX6BL22fez7"
      },
      "outputs": [],
      "source": [
        "x=data['judge_position']"
      ]
    },
    {
      "cell_type": "markdown",
      "metadata": {
        "id": "mMcLO5C_-2DK"
      },
      "source": [
        "The variable X which has categorical data has been converted into indicator or dummy variables for better predictions."
      ]
    },
    {
      "cell_type": "code",
      "execution_count": 7,
      "metadata": {
        "id": "PG2jnJGqfh42"
      },
      "outputs": [],
      "source": [
        "X=pd.get_dummies(x)"
      ]
    },
    {
      "cell_type": "code",
      "execution_count": 8,
      "metadata": {
        "colab": {
          "base_uri": "https://localhost:8080/",
          "height": 404
        },
        "id": "PWCpnA4Pfkki",
        "outputId": "31b1bcfa-a3c8-4e4b-a11a-35999db27a1d"
      },
      "outputs": [
        {
          "output_type": "execute_result",
          "data": {
            "text/plain": [
              "   1-additional chief judge court  \\\n",
              "0                               0   \n",
              "1                               0   \n",
              "2                               0   \n",
              "3                               0   \n",
              "4                               0   \n",
              "\n",
              "   1-additional civil judge and judicial magistrate  \\\n",
              "0                                                 0   \n",
              "1                                                 0   \n",
              "2                                                 0   \n",
              "3                                                 0   \n",
              "4                                                 0   \n",
              "\n",
              "   1-additional civil judge junior division  \\\n",
              "0                                         0   \n",
              "1                                         0   \n",
              "2                                         0   \n",
              "3                                         0   \n",
              "4                                         0   \n",
              "\n",
              "   1-additional district and sessions court  1-civil judge junior division  \\\n",
              "0                                         0                              0   \n",
              "1                                         0                              0   \n",
              "2                                         0                              0   \n",
              "3                                         0                              0   \n",
              "4                                         0                              0   \n",
              "\n",
              "   1-district and sessions court  1-jmfc  1-mm court  \\\n",
              "0                              0       0           0   \n",
              "1                              0       0           0   \n",
              "2                              0       0           0   \n",
              "3                              0       0           0   \n",
              "4                              0       0           0   \n",
              "\n",
              "   10-additional chief metropolitan magistrate  \\\n",
              "0                                            0   \n",
              "1                                            0   \n",
              "2                                            0   \n",
              "3                                            0   \n",
              "4                                            0   \n",
              "\n",
              "   10-additional district and sessions court  ...  vanthali_addldj court  \\\n",
              "0                                          0  ...                      0   \n",
              "1                                          0  ...                      0   \n",
              "2                                          0  ...                      0   \n",
              "3                                          0  ...                      0   \n",
              "4                                          0  ...                      0   \n",
              "\n",
              "   vi m.m.court (mobile court) cum vi a.j.c.j. vja  vinchhiya_taluka  \\\n",
              "0                                                0                 0   \n",
              "1                                                0                 0   \n",
              "2                                                0                 0   \n",
              "3                                                0                 0   \n",
              "4                                                0                 0   \n",
              "\n",
              "   visavadar_addldj court  visnagar_addldj court  wac  \\\n",
              "0                       0                      0    0   \n",
              "1                       0                      0    0   \n",
              "2                       0                      0    0   \n",
              "3                       0                      0    0   \n",
              "4                       0                      0    0   \n",
              "\n",
              "   wakf board court complex  wakf tribunal  womens court  \\\n",
              "0                         0              0             0   \n",
              "1                         0              0             0   \n",
              "2                         0              0             0   \n",
              "3                         0              0             0   \n",
              "4                         0              0             0   \n",
              "\n",
              "   x additional special courts for under pc act, gt,  \n",
              "0                                                  0  \n",
              "1                                                  0  \n",
              "2                                                  0  \n",
              "3                                                  0  \n",
              "4                                                  0  \n",
              "\n",
              "[5 rows x 433 columns]"
            ],
            "text/html": [
              "\n",
              "  <div id=\"df-07dfeb4e-56d5-451e-a192-53700bfb83dd\">\n",
              "    <div class=\"colab-df-container\">\n",
              "      <div>\n",
              "<style scoped>\n",
              "    .dataframe tbody tr th:only-of-type {\n",
              "        vertical-align: middle;\n",
              "    }\n",
              "\n",
              "    .dataframe tbody tr th {\n",
              "        vertical-align: top;\n",
              "    }\n",
              "\n",
              "    .dataframe thead th {\n",
              "        text-align: right;\n",
              "    }\n",
              "</style>\n",
              "<table border=\"1\" class=\"dataframe\">\n",
              "  <thead>\n",
              "    <tr style=\"text-align: right;\">\n",
              "      <th></th>\n",
              "      <th>1-additional chief judge court</th>\n",
              "      <th>1-additional civil judge and judicial magistrate</th>\n",
              "      <th>1-additional civil judge junior division</th>\n",
              "      <th>1-additional district and sessions court</th>\n",
              "      <th>1-civil judge junior division</th>\n",
              "      <th>1-district and sessions court</th>\n",
              "      <th>1-jmfc</th>\n",
              "      <th>1-mm court</th>\n",
              "      <th>10-additional chief metropolitan magistrate</th>\n",
              "      <th>10-additional district and sessions court</th>\n",
              "      <th>...</th>\n",
              "      <th>vanthali_addldj court</th>\n",
              "      <th>vi m.m.court (mobile court) cum vi a.j.c.j. vja</th>\n",
              "      <th>vinchhiya_taluka</th>\n",
              "      <th>visavadar_addldj court</th>\n",
              "      <th>visnagar_addldj court</th>\n",
              "      <th>wac</th>\n",
              "      <th>wakf board court complex</th>\n",
              "      <th>wakf tribunal</th>\n",
              "      <th>womens court</th>\n",
              "      <th>x additional special courts for under pc act, gt,</th>\n",
              "    </tr>\n",
              "  </thead>\n",
              "  <tbody>\n",
              "    <tr>\n",
              "      <th>0</th>\n",
              "      <td>0</td>\n",
              "      <td>0</td>\n",
              "      <td>0</td>\n",
              "      <td>0</td>\n",
              "      <td>0</td>\n",
              "      <td>0</td>\n",
              "      <td>0</td>\n",
              "      <td>0</td>\n",
              "      <td>0</td>\n",
              "      <td>0</td>\n",
              "      <td>...</td>\n",
              "      <td>0</td>\n",
              "      <td>0</td>\n",
              "      <td>0</td>\n",
              "      <td>0</td>\n",
              "      <td>0</td>\n",
              "      <td>0</td>\n",
              "      <td>0</td>\n",
              "      <td>0</td>\n",
              "      <td>0</td>\n",
              "      <td>0</td>\n",
              "    </tr>\n",
              "    <tr>\n",
              "      <th>1</th>\n",
              "      <td>0</td>\n",
              "      <td>0</td>\n",
              "      <td>0</td>\n",
              "      <td>0</td>\n",
              "      <td>0</td>\n",
              "      <td>0</td>\n",
              "      <td>0</td>\n",
              "      <td>0</td>\n",
              "      <td>0</td>\n",
              "      <td>0</td>\n",
              "      <td>...</td>\n",
              "      <td>0</td>\n",
              "      <td>0</td>\n",
              "      <td>0</td>\n",
              "      <td>0</td>\n",
              "      <td>0</td>\n",
              "      <td>0</td>\n",
              "      <td>0</td>\n",
              "      <td>0</td>\n",
              "      <td>0</td>\n",
              "      <td>0</td>\n",
              "    </tr>\n",
              "    <tr>\n",
              "      <th>2</th>\n",
              "      <td>0</td>\n",
              "      <td>0</td>\n",
              "      <td>0</td>\n",
              "      <td>0</td>\n",
              "      <td>0</td>\n",
              "      <td>0</td>\n",
              "      <td>0</td>\n",
              "      <td>0</td>\n",
              "      <td>0</td>\n",
              "      <td>0</td>\n",
              "      <td>...</td>\n",
              "      <td>0</td>\n",
              "      <td>0</td>\n",
              "      <td>0</td>\n",
              "      <td>0</td>\n",
              "      <td>0</td>\n",
              "      <td>0</td>\n",
              "      <td>0</td>\n",
              "      <td>0</td>\n",
              "      <td>0</td>\n",
              "      <td>0</td>\n",
              "    </tr>\n",
              "    <tr>\n",
              "      <th>3</th>\n",
              "      <td>0</td>\n",
              "      <td>0</td>\n",
              "      <td>0</td>\n",
              "      <td>0</td>\n",
              "      <td>0</td>\n",
              "      <td>0</td>\n",
              "      <td>0</td>\n",
              "      <td>0</td>\n",
              "      <td>0</td>\n",
              "      <td>0</td>\n",
              "      <td>...</td>\n",
              "      <td>0</td>\n",
              "      <td>0</td>\n",
              "      <td>0</td>\n",
              "      <td>0</td>\n",
              "      <td>0</td>\n",
              "      <td>0</td>\n",
              "      <td>0</td>\n",
              "      <td>0</td>\n",
              "      <td>0</td>\n",
              "      <td>0</td>\n",
              "    </tr>\n",
              "    <tr>\n",
              "      <th>4</th>\n",
              "      <td>0</td>\n",
              "      <td>0</td>\n",
              "      <td>0</td>\n",
              "      <td>0</td>\n",
              "      <td>0</td>\n",
              "      <td>0</td>\n",
              "      <td>0</td>\n",
              "      <td>0</td>\n",
              "      <td>0</td>\n",
              "      <td>0</td>\n",
              "      <td>...</td>\n",
              "      <td>0</td>\n",
              "      <td>0</td>\n",
              "      <td>0</td>\n",
              "      <td>0</td>\n",
              "      <td>0</td>\n",
              "      <td>0</td>\n",
              "      <td>0</td>\n",
              "      <td>0</td>\n",
              "      <td>0</td>\n",
              "      <td>0</td>\n",
              "    </tr>\n",
              "  </tbody>\n",
              "</table>\n",
              "<p>5 rows × 433 columns</p>\n",
              "</div>\n",
              "      <button class=\"colab-df-convert\" onclick=\"convertToInteractive('df-07dfeb4e-56d5-451e-a192-53700bfb83dd')\"\n",
              "              title=\"Convert this dataframe to an interactive table.\"\n",
              "              style=\"display:none;\">\n",
              "        \n",
              "  <svg xmlns=\"http://www.w3.org/2000/svg\" height=\"24px\"viewBox=\"0 0 24 24\"\n",
              "       width=\"24px\">\n",
              "    <path d=\"M0 0h24v24H0V0z\" fill=\"none\"/>\n",
              "    <path d=\"M18.56 5.44l.94 2.06.94-2.06 2.06-.94-2.06-.94-.94-2.06-.94 2.06-2.06.94zm-11 1L8.5 8.5l.94-2.06 2.06-.94-2.06-.94L8.5 2.5l-.94 2.06-2.06.94zm10 10l.94 2.06.94-2.06 2.06-.94-2.06-.94-.94-2.06-.94 2.06-2.06.94z\"/><path d=\"M17.41 7.96l-1.37-1.37c-.4-.4-.92-.59-1.43-.59-.52 0-1.04.2-1.43.59L10.3 9.45l-7.72 7.72c-.78.78-.78 2.05 0 2.83L4 21.41c.39.39.9.59 1.41.59.51 0 1.02-.2 1.41-.59l7.78-7.78 2.81-2.81c.8-.78.8-2.07 0-2.86zM5.41 20L4 18.59l7.72-7.72 1.47 1.35L5.41 20z\"/>\n",
              "  </svg>\n",
              "      </button>\n",
              "      \n",
              "  <style>\n",
              "    .colab-df-container {\n",
              "      display:flex;\n",
              "      flex-wrap:wrap;\n",
              "      gap: 12px;\n",
              "    }\n",
              "\n",
              "    .colab-df-convert {\n",
              "      background-color: #E8F0FE;\n",
              "      border: none;\n",
              "      border-radius: 50%;\n",
              "      cursor: pointer;\n",
              "      display: none;\n",
              "      fill: #1967D2;\n",
              "      height: 32px;\n",
              "      padding: 0 0 0 0;\n",
              "      width: 32px;\n",
              "    }\n",
              "\n",
              "    .colab-df-convert:hover {\n",
              "      background-color: #E2EBFA;\n",
              "      box-shadow: 0px 1px 2px rgba(60, 64, 67, 0.3), 0px 1px 3px 1px rgba(60, 64, 67, 0.15);\n",
              "      fill: #174EA6;\n",
              "    }\n",
              "\n",
              "    [theme=dark] .colab-df-convert {\n",
              "      background-color: #3B4455;\n",
              "      fill: #D2E3FC;\n",
              "    }\n",
              "\n",
              "    [theme=dark] .colab-df-convert:hover {\n",
              "      background-color: #434B5C;\n",
              "      box-shadow: 0px 1px 3px 1px rgba(0, 0, 0, 0.15);\n",
              "      filter: drop-shadow(0px 1px 2px rgba(0, 0, 0, 0.3));\n",
              "      fill: #FFFFFF;\n",
              "    }\n",
              "  </style>\n",
              "\n",
              "      <script>\n",
              "        const buttonEl =\n",
              "          document.querySelector('#df-07dfeb4e-56d5-451e-a192-53700bfb83dd button.colab-df-convert');\n",
              "        buttonEl.style.display =\n",
              "          google.colab.kernel.accessAllowed ? 'block' : 'none';\n",
              "\n",
              "        async function convertToInteractive(key) {\n",
              "          const element = document.querySelector('#df-07dfeb4e-56d5-451e-a192-53700bfb83dd');\n",
              "          const dataTable =\n",
              "            await google.colab.kernel.invokeFunction('convertToInteractive',\n",
              "                                                     [key], {});\n",
              "          if (!dataTable) return;\n",
              "\n",
              "          const docLinkHtml = 'Like what you see? Visit the ' +\n",
              "            '<a target=\"_blank\" href=https://colab.research.google.com/notebooks/data_table.ipynb>data table notebook</a>'\n",
              "            + ' to learn more about interactive tables.';\n",
              "          element.innerHTML = '';\n",
              "          dataTable['output_type'] = 'display_data';\n",
              "          await google.colab.output.renderOutput(dataTable, element);\n",
              "          const docLink = document.createElement('div');\n",
              "          docLink.innerHTML = docLinkHtml;\n",
              "          element.appendChild(docLink);\n",
              "        }\n",
              "      </script>\n",
              "    </div>\n",
              "  </div>\n",
              "  "
            ]
          },
          "metadata": {},
          "execution_count": 8
        }
      ],
      "source": [
        "X.head(5)"
      ]
    },
    {
      "cell_type": "markdown",
      "metadata": {
        "id": "AgXnsjakACDR"
      },
      "source": [
        "We will now create a target variable Y with data in the column 'female_defendant'"
      ]
    },
    {
      "cell_type": "code",
      "execution_count": 9,
      "metadata": {
        "id": "GzcNx6JYfo4J"
      },
      "outputs": [],
      "source": [
        "Y=data['female_defendant']"
      ]
    },
    {
      "cell_type": "markdown",
      "source": [
        "**Splitting the data for modelling**\n",
        "30% test size and 70% train size.\n"
      ],
      "metadata": {
        "id": "9acWcnNu6_Ay"
      }
    },
    {
      "cell_type": "code",
      "execution_count": 10,
      "metadata": {
        "id": "Jd3ZFSePg7ud"
      },
      "outputs": [],
      "source": [
        "from sklearn.model_selection import train_test_split\n",
        "\n",
        "X_train, X_test, y_train, y_test = train_test_split(X, Y, random_state = 0,test_size=0.3)"
      ]
    },
    {
      "cell_type": "markdown",
      "metadata": {
        "id": "hhDQVt2GAPcG"
      },
      "source": [
        "## **MODEL 1- DECISION TREE**"
      ]
    },
    {
      "cell_type": "code",
      "execution_count": 11,
      "metadata": {
        "id": "1PCGsZDzh53j"
      },
      "outputs": [],
      "source": [
        "from sklearn.tree import DecisionTreeClassifier\n",
        "dtree_model = DecisionTreeClassifier(max_depth =150,criterion='entropy').fit(X_train, y_train)\n"
      ]
    },
    {
      "cell_type": "code",
      "execution_count": 12,
      "metadata": {
        "id": "vyU5qCJejhuI"
      },
      "outputs": [],
      "source": [
        "dtree_predictions = dtree_model.predict(X_test)"
      ]
    },
    {
      "cell_type": "markdown",
      "source": [
        "Now we will create a function which calculates the accuracy, precision, recall and f1 score when the model, and x and y test sets are passed.\n",
        "This is beneficial for us in model evaluation."
      ],
      "metadata": {
        "id": "6afDRLSL7ISi"
      }
    },
    {
      "cell_type": "code",
      "source": [
        "from numpy.lib.function_base import average\n",
        "def evaluate_model(model, x_test, y_test):\n",
        "    from sklearn import metrics\n",
        "\n",
        "    # Predict Test Data \n",
        "    y_pred = model.predict(x_test)\n",
        "\n",
        "    # Calculate accuracy, precision, recall, f1-score, and kappa score\n",
        "    acc = metrics.accuracy_score(y_test, y_pred)\n",
        "    prec = metrics.precision_score(y_test, y_pred,average='micro')\n",
        "    rec = metrics.recall_score(y_test, y_pred,average='micro')\n",
        "    f1 = metrics.f1_score(y_test, y_pred,average='micro')\n",
        "\n",
        "    # Display confussion matrix\n",
        "    cm = metrics.confusion_matrix(y_test, y_pred)\n",
        "\n",
        "\n",
        "    return {'acc': acc, 'prec': prec, 'rec': rec, 'f1': f1, 'cm': cm}\n"
      ],
      "metadata": {
        "id": "msBcGch0EaVY"
      },
      "execution_count": 13,
      "outputs": []
    },
    {
      "cell_type": "markdown",
      "source": [
        "Implementing the function 'evaluate_model' created to store the various scores as mentioned above in the variable 'dtc_eval'"
      ],
      "metadata": {
        "id": "gdNiirvp7dAO"
      }
    },
    {
      "cell_type": "code",
      "source": [
        "dtc_eval = evaluate_model(dtree_model, X_test, y_test)"
      ],
      "metadata": {
        "id": "HRnsipLOFtkW"
      },
      "execution_count": 14,
      "outputs": []
    },
    {
      "cell_type": "markdown",
      "source": [
        "**Performance Measure Using Confusion Matrix, Classification Report**\n",
        "-We will now the how the model has performed through confusion matrix and classification report."
      ],
      "metadata": {
        "id": "LBivAWVAGK9e"
      }
    },
    {
      "cell_type": "code",
      "execution_count": 15,
      "metadata": {
        "id": "IiwURyZojmFD"
      },
      "outputs": [],
      "source": [
        "from sklearn.metrics import confusion_matrix,classification_report"
      ]
    },
    {
      "cell_type": "markdown",
      "source": [
        "A function is named'confusion_matrix_classification_report' is created to print the confusion matrix and classification report, so we need to repeatedly use the 2 lines of code,insteas, call the function with the required parameters."
      ],
      "metadata": {
        "id": "ECM1V9VW71TG"
      }
    },
    {
      "cell_type": "code",
      "execution_count": 16,
      "metadata": {
        "id": "Nq5ykPsnG5FV"
      },
      "outputs": [],
      "source": [
        "def confusion_matrix_classification_report(test,predict):\n",
        "  print(confusion_matrix(test,predict))\n",
        "  print(classification_report(test,predict))"
      ]
    },
    {
      "cell_type": "code",
      "execution_count": 17,
      "metadata": {
        "colab": {
          "base_uri": "https://localhost:8080/"
        },
        "id": "ROxWBxM0j-hm",
        "outputId": "f7d62be4-61e1-4223-bd1b-fb16195f2af4"
      },
      "outputs": [
        {
          "output_type": "stream",
          "name": "stdout",
          "text": [
            "[[  427     0 15879    10]\n",
            " [    1     0   437     0]\n",
            " [  314     0 52939    53]\n",
            " [   58     0  9344    38]]\n"
          ]
        },
        {
          "output_type": "stream",
          "name": "stderr",
          "text": [
            "/usr/local/lib/python3.8/dist-packages/sklearn/metrics/_classification.py:1318: UndefinedMetricWarning: Precision and F-score are ill-defined and being set to 0.0 in labels with no predicted samples. Use `zero_division` parameter to control this behavior.\n",
            "  _warn_prf(average, modifier, msg_start, len(result))\n",
            "/usr/local/lib/python3.8/dist-packages/sklearn/metrics/_classification.py:1318: UndefinedMetricWarning: Precision and F-score are ill-defined and being set to 0.0 in labels with no predicted samples. Use `zero_division` parameter to control this behavior.\n",
            "  _warn_prf(average, modifier, msg_start, len(result))\n"
          ]
        },
        {
          "output_type": "stream",
          "name": "stdout",
          "text": [
            "                    precision    recall  f1-score   support\n",
            "\n",
            "     -9998 unclear       0.53      0.03      0.05     16316\n",
            "-9999 missing name       0.00      0.00      0.00       438\n",
            "            0 male       0.67      0.99      0.80     53306\n",
            "          1 female       0.38      0.00      0.01      9440\n",
            "\n",
            "          accuracy                           0.67     79500\n",
            "         macro avg       0.40      0.26      0.22     79500\n",
            "      weighted avg       0.61      0.67      0.55     79500\n",
            "\n"
          ]
        },
        {
          "output_type": "stream",
          "name": "stderr",
          "text": [
            "/usr/local/lib/python3.8/dist-packages/sklearn/metrics/_classification.py:1318: UndefinedMetricWarning: Precision and F-score are ill-defined and being set to 0.0 in labels with no predicted samples. Use `zero_division` parameter to control this behavior.\n",
            "  _warn_prf(average, modifier, msg_start, len(result))\n"
          ]
        }
      ],
      "source": [
        "confusion_matrix_classification_report(y_test,dtree_predictions)"
      ]
    },
    {
      "cell_type": "markdown",
      "metadata": {
        "id": "INCxCzVPBTDv"
      },
      "source": [
        "## **MODEL 2- XGBOOST**"
      ]
    },
    {
      "cell_type": "code",
      "execution_count": 18,
      "metadata": {
        "id": "Yq9bzKWqkJ7Z"
      },
      "outputs": [],
      "source": [
        "from xgboost import XGBClassifier\n",
        "from xgboost import plot_tree\n",
        "import matplotlib.pyplot as plt"
      ]
    },
    {
      "cell_type": "code",
      "execution_count": null,
      "metadata": {
        "id": "D99uFC5R1XH_"
      },
      "outputs": [],
      "source": [
        "model = XGBClassifier()\n",
        "model.fit(X_train, y_train)"
      ]
    },
    {
      "cell_type": "markdown",
      "source": [
        "Predicting the values and storing it in variable 'preds'."
      ],
      "metadata": {
        "id": "ryfrp5V38Jh8"
      }
    },
    {
      "cell_type": "code",
      "execution_count": 20,
      "metadata": {
        "id": "Nni6bu6F1aj8"
      },
      "outputs": [],
      "source": [
        "preds = model.predict(X_test)"
      ]
    },
    {
      "cell_type": "markdown",
      "source": [
        "Implementing the evaluate_model function to calculate accuracy, precision, recall and f1 score when the model, and x and y test sets are passed.\n"
      ],
      "metadata": {
        "id": "E085TkLN8PCR"
      }
    },
    {
      "cell_type": "code",
      "source": [
        "xgb_eval=evaluate_model( model, X_test, y_test)"
      ],
      "metadata": {
        "id": "aPufo4B8GhDP"
      },
      "execution_count": 21,
      "outputs": []
    },
    {
      "cell_type": "markdown",
      "metadata": {
        "id": "KfsRyP0DBdkb"
      },
      "source": [
        "**Performance Measure using Confusion Matrix, Classfication Report**"
      ]
    },
    {
      "cell_type": "code",
      "execution_count": 22,
      "metadata": {
        "colab": {
          "base_uri": "https://localhost:8080/"
        },
        "id": "rgOB4rD82x-g",
        "outputId": "5c52b556-52ef-4979-a702-37578318ef42"
      },
      "outputs": [
        {
          "output_type": "stream",
          "name": "stdout",
          "text": [
            "[[  217     0 16099     0]\n",
            " [    0     0   438     0]\n",
            " [  130     0 53176     0]\n",
            " [   17     0  9417     6]]\n"
          ]
        },
        {
          "output_type": "stream",
          "name": "stderr",
          "text": [
            "/usr/local/lib/python3.8/dist-packages/sklearn/metrics/_classification.py:1318: UndefinedMetricWarning: Precision and F-score are ill-defined and being set to 0.0 in labels with no predicted samples. Use `zero_division` parameter to control this behavior.\n",
            "  _warn_prf(average, modifier, msg_start, len(result))\n",
            "/usr/local/lib/python3.8/dist-packages/sklearn/metrics/_classification.py:1318: UndefinedMetricWarning: Precision and F-score are ill-defined and being set to 0.0 in labels with no predicted samples. Use `zero_division` parameter to control this behavior.\n",
            "  _warn_prf(average, modifier, msg_start, len(result))\n"
          ]
        },
        {
          "output_type": "stream",
          "name": "stdout",
          "text": [
            "                    precision    recall  f1-score   support\n",
            "\n",
            "     -9998 unclear       0.60      0.01      0.03     16316\n",
            "-9999 missing name       0.00      0.00      0.00       438\n",
            "            0 male       0.67      1.00      0.80     53306\n",
            "          1 female       1.00      0.00      0.00      9440\n",
            "\n",
            "          accuracy                           0.67     79500\n",
            "         macro avg       0.57      0.25      0.21     79500\n",
            "      weighted avg       0.69      0.67      0.54     79500\n",
            "\n"
          ]
        },
        {
          "output_type": "stream",
          "name": "stderr",
          "text": [
            "/usr/local/lib/python3.8/dist-packages/sklearn/metrics/_classification.py:1318: UndefinedMetricWarning: Precision and F-score are ill-defined and being set to 0.0 in labels with no predicted samples. Use `zero_division` parameter to control this behavior.\n",
            "  _warn_prf(average, modifier, msg_start, len(result))\n"
          ]
        }
      ],
      "source": [
        "confusion_matrix_classification_report(y_test,preds)\n"
      ]
    },
    {
      "cell_type": "markdown",
      "metadata": {
        "id": "PS8Eo7S_CHQn"
      },
      "source": [
        "##  **MODEL 3-K-Nearest-Neighbours**"
      ]
    },
    {
      "cell_type": "code",
      "execution_count": 23,
      "metadata": {
        "id": "Kbso4hi72-7Q"
      },
      "outputs": [],
      "source": [
        "from sklearn.neighbors import KNeighborsClassifier\n"
      ]
    },
    {
      "cell_type": "code",
      "execution_count": null,
      "metadata": {
        "id": "x8NWk6KH5O4g"
      },
      "outputs": [],
      "source": [
        "knn = KNeighborsClassifier(n_neighbors=7)\n",
        "  \n",
        "knn.fit(X_train, y_train)"
      ]
    },
    {
      "cell_type": "markdown",
      "source": [
        "Predicting the values and storing it in variable named predictions."
      ],
      "metadata": {
        "id": "eus_Sd_28zBg"
      }
    },
    {
      "cell_type": "code",
      "execution_count": 25,
      "metadata": {
        "id": "CIzR-OHX5Qsa"
      },
      "outputs": [],
      "source": [
        "predictions= knn.predict(X_test)"
      ]
    },
    {
      "cell_type": "markdown",
      "source": [
        "Implementing the evaluate_model function to calculate accuracy, precision, recall and f1 score when the model, and x and y test sets are passed."
      ],
      "metadata": {
        "id": "4To6kNkA83RH"
      }
    },
    {
      "cell_type": "code",
      "source": [
        "knn_eval=evaluate_model( knn , X_test, y_test)"
      ],
      "metadata": {
        "id": "ywHFLF6BG8zO"
      },
      "execution_count": 26,
      "outputs": []
    },
    {
      "cell_type": "markdown",
      "metadata": {
        "id": "KhV6PALuCxpP"
      },
      "source": [
        "**Performance Measures using Confusion Matrix, Classification Report**"
      ]
    },
    {
      "cell_type": "code",
      "execution_count": 27,
      "metadata": {
        "id": "hKMml5Zv7UYW"
      },
      "outputs": [],
      "source": [
        "from sklearn.metrics import accuracy_score"
      ]
    },
    {
      "cell_type": "code",
      "execution_count": 28,
      "metadata": {
        "colab": {
          "base_uri": "https://localhost:8080/"
        },
        "id": "e1ITcwo15YLE",
        "outputId": "bcbea44a-e320-4fb9-ccfe-8ec358f4832c"
      },
      "outputs": [
        {
          "output_type": "execute_result",
          "data": {
            "text/plain": [
              "0.6362012578616352"
            ]
          },
          "metadata": {},
          "execution_count": 28
        }
      ],
      "source": [
        "accuracy_score(y_test, predictions)"
      ]
    },
    {
      "cell_type": "code",
      "execution_count": 29,
      "metadata": {
        "colab": {
          "base_uri": "https://localhost:8080/"
        },
        "id": "ddTORY2K7Gls",
        "outputId": "58373545-b7a4-48c6-d956-fb1e381533b9"
      },
      "outputs": [
        {
          "output_type": "stream",
          "name": "stdout",
          "text": [
            "[[ 2406     1 13796   113]\n",
            " [   33     1   402     2]\n",
            " [ 4948     6 48061   291]\n",
            " [ 1364     1  7965   110]]\n",
            "                    precision    recall  f1-score   support\n",
            "\n",
            "     -9998 unclear       0.27      0.15      0.19     16316\n",
            "-9999 missing name       0.11      0.00      0.00       438\n",
            "            0 male       0.68      0.90      0.78     53306\n",
            "          1 female       0.21      0.01      0.02      9440\n",
            "\n",
            "          accuracy                           0.64     79500\n",
            "         macro avg       0.32      0.27      0.25     79500\n",
            "      weighted avg       0.54      0.64      0.56     79500\n",
            "\n"
          ]
        }
      ],
      "source": [
        "confusion_matrix_classification_report(y_test,predictions)"
      ]
    },
    {
      "cell_type": "markdown",
      "metadata": {
        "id": "YwYu3qRF6eTS"
      },
      "source": [
        "##**MODEL 4-Logistic Regresion**\n"
      ]
    },
    {
      "cell_type": "code",
      "execution_count": null,
      "metadata": {
        "id": "yLuB7XhD6oIs"
      },
      "outputs": [],
      "source": [
        "from sklearn.linear_model import LogisticRegression\n",
        "classifier = LogisticRegression(random_state = 0)\n",
        "classifier.fit(X_train, y_train)"
      ]
    },
    {
      "cell_type": "markdown",
      "source": [
        "Predicting the results and storing it in a variable names y_predictions."
      ],
      "metadata": {
        "id": "C8KDTh-j88E7"
      }
    },
    {
      "cell_type": "code",
      "execution_count": 31,
      "metadata": {
        "id": "gyXF3HD96oSa"
      },
      "outputs": [],
      "source": [
        "y_predictions= classifier.predict(X_test)"
      ]
    },
    {
      "cell_type": "markdown",
      "source": [
        "Implementing the evaluate_model function to calculate accuracy, precision, recall and f1 score when the model, and x and y test sets are passed."
      ],
      "metadata": {
        "id": "cA4BqEIi9Ar_"
      }
    },
    {
      "cell_type": "code",
      "source": [
        "logi_eval=evaluate_model( classifier , X_test, y_test)"
      ],
      "metadata": {
        "id": "-m0XQqrfHEEB"
      },
      "execution_count": 32,
      "outputs": []
    },
    {
      "cell_type": "markdown",
      "source": [
        "**Performance Measures using Confusion Matrix, Classification Report**"
      ],
      "metadata": {
        "id": "WReMrmLT_yKi"
      }
    },
    {
      "cell_type": "code",
      "execution_count": 33,
      "metadata": {
        "colab": {
          "base_uri": "https://localhost:8080/"
        },
        "id": "tAK0XLZ-6oZb",
        "outputId": "b66624f2-afdb-4d0f-b44f-36dbcde0d9d6"
      },
      "outputs": [
        {
          "output_type": "stream",
          "name": "stdout",
          "text": [
            "[[  370     0 15938     8]\n",
            " [    1     0   437     0]\n",
            " [  252     0 53009    45]\n",
            " [   52     0  9353    35]]\n"
          ]
        },
        {
          "output_type": "stream",
          "name": "stderr",
          "text": [
            "/usr/local/lib/python3.8/dist-packages/sklearn/metrics/_classification.py:1318: UndefinedMetricWarning: Precision and F-score are ill-defined and being set to 0.0 in labels with no predicted samples. Use `zero_division` parameter to control this behavior.\n",
            "  _warn_prf(average, modifier, msg_start, len(result))\n",
            "/usr/local/lib/python3.8/dist-packages/sklearn/metrics/_classification.py:1318: UndefinedMetricWarning: Precision and F-score are ill-defined and being set to 0.0 in labels with no predicted samples. Use `zero_division` parameter to control this behavior.\n",
            "  _warn_prf(average, modifier, msg_start, len(result))\n"
          ]
        },
        {
          "output_type": "stream",
          "name": "stdout",
          "text": [
            "                    precision    recall  f1-score   support\n",
            "\n",
            "     -9998 unclear       0.55      0.02      0.04     16316\n",
            "-9999 missing name       0.00      0.00      0.00       438\n",
            "            0 male       0.67      0.99      0.80     53306\n",
            "          1 female       0.40      0.00      0.01      9440\n",
            "\n",
            "          accuracy                           0.67     79500\n",
            "         macro avg       0.40      0.26      0.21     79500\n",
            "      weighted avg       0.61      0.67      0.55     79500\n",
            "\n"
          ]
        },
        {
          "output_type": "stream",
          "name": "stderr",
          "text": [
            "/usr/local/lib/python3.8/dist-packages/sklearn/metrics/_classification.py:1318: UndefinedMetricWarning: Precision and F-score are ill-defined and being set to 0.0 in labels with no predicted samples. Use `zero_division` parameter to control this behavior.\n",
            "  _warn_prf(average, modifier, msg_start, len(result))\n"
          ]
        }
      ],
      "source": [
        "confusion_matrix_classification_report(y_test,y_predictions)"
      ]
    },
    {
      "cell_type": "markdown",
      "source": [
        "## **Graphical Evaluation Of Performace Of Various Models.**"
      ],
      "metadata": {
        "id": "G7MEr9nk9Gpi"
      }
    },
    {
      "cell_type": "markdown",
      "source": [
        "First, we will create a dataframe with the corresponding Precision,Recall,F1Score,Accuracy scores of various models.\n",
        "<br>Then we will plot the data frame using the '.plot' method available in the matplotlib library."
      ],
      "metadata": {
        "id": "YkWFz8gL9Szy"
      }
    },
    {
      "cell_type": "code",
      "source": [
        "data_evaluation_model=[['Precision',dtc_eval['prec'],xgb_eval['prec'],logi_eval['prec'],knn_eval['prec']],\n",
        "     ['Recall',dtc_eval['rec'],xgb_eval['rec'],logi_eval['rec'],knn_eval['rec']],\n",
        "     ['F1Score',dtc_eval['f1'],xgb_eval['f1'],logi_eval['f1'],knn_eval['f1']],\n",
        "     ['Accuracy',dtc_eval['acc'],xgb_eval['acc'],logi_eval['acc'],knn_eval['acc']]]\n",
        "\n",
        "\n",
        "df=pd.DataFrame(data_evaluation_model,columns=[\"Name\",\"Decision Tree\",\"XGBoost\",\"Logistic\",\"KNN\"])\n",
        "df.plot(x=\"Name\", y=[\"Decision Tree\",\"XGBoost\",\"Logistic\",\"KNN\"], kind=\"bar\",figsize=(14,12))"
      ],
      "metadata": {
        "colab": {
          "base_uri": "https://localhost:8080/",
          "height": 768
        },
        "id": "v0qEVpb1uQk2",
        "outputId": "ccaa22e7-1430-4d71-f57c-4d039257e976"
      },
      "execution_count": 34,
      "outputs": [
        {
          "output_type": "execute_result",
          "data": {
            "text/plain": [
              "<matplotlib.axes._subplots.AxesSubplot at 0x7f57a0674850>"
            ]
          },
          "metadata": {},
          "execution_count": 34
        },
        {
          "output_type": "display_data",
          "data": {
            "text/plain": [
              "<Figure size 1008x864 with 1 Axes>"
            ],
            "image/png": "[encoded data removed]"
          },
          "metadata": {
            "needs_background": "light"
          }
        }
      ]
    },
    {
      "cell_type": "markdown",
      "source": [
        "In the above representation, we havegrouped plotted the various precision,recall,F1 and accuracy scores of various models for better evaluation.\n"
      ],
      "metadata": {
        "id": "oyWj2ZTH9xK3"
      }
    },
    {
      "cell_type": "markdown",
      "source": [
        "# **Identifying Classification Problem 2**\n",
        "We can use this dataset to predict whether a particular petitioner under a given judge will be male, female or other.\n",
        "\n",
        "A dataset of independant variable X with the data of 'judge_position' column has already been created for the same.\n",
        "We will now create a target variable Y with data in the column 'female_petitioner'."
      ],
      "metadata": {
        "id": "rXEPMEHo_sbD"
      }
    },
    {
      "cell_type": "code",
      "execution_count": 35,
      "metadata": {
        "id": "_Gu-r4OhFOGu"
      },
      "outputs": [],
      "source": [
        "Y=data['female_petitioner']"
      ]
    },
    {
      "cell_type": "markdown",
      "metadata": {
        "id": "7ShX4wdhGPhJ"
      },
      "source": [
        "Splitting the new data Y along with X."
      ]
    },
    {
      "cell_type": "code",
      "execution_count": 36,
      "metadata": {
        "id": "tjbePLuBFV76"
      },
      "outputs": [],
      "source": [
        "X_train, X_test, y_train, y_test = train_test_split(X, Y, random_state = 0,test_size=0.3)\n"
      ]
    },
    {
      "cell_type": "markdown",
      "metadata": {
        "id": "QBaZGd9cRF6q"
      },
      "source": [
        "## **Model 1 -Decision Tree**"
      ]
    },
    {
      "cell_type": "code",
      "execution_count": 37,
      "metadata": {
        "id": "VL8AohAZGIbQ"
      },
      "outputs": [],
      "source": [
        "dtree_model = DecisionTreeClassifier(max_depth =50,criterion='entropy').fit(X_train, y_train)"
      ]
    },
    {
      "cell_type": "code",
      "execution_count": 38,
      "metadata": {
        "id": "Ms9XrOljGXX0"
      },
      "outputs": [],
      "source": [
        "dtree_predictions = dtree_model.predict(X_test)"
      ]
    },
    {
      "cell_type": "markdown",
      "source": [
        "Implementing the evaluate_model function to calculate teh various scores."
      ],
      "metadata": {
        "id": "ulEQBSXz-vvQ"
      }
    },
    {
      "cell_type": "code",
      "source": [
        "dtc_eval = evaluate_model(dtree_model, X_test, y_test)"
      ],
      "metadata": {
        "id": "0UywBED2w9N3"
      },
      "execution_count": 39,
      "outputs": []
    },
    {
      "cell_type": "markdown",
      "metadata": {
        "id": "OQDXXCPsIGUn"
      },
      "source": [
        "Performance Measure Using Confusion_Matrix and Classification Report"
      ]
    },
    {
      "cell_type": "code",
      "execution_count": 40,
      "metadata": {
        "id": "EfaUg5kVGchH",
        "colab": {
          "base_uri": "https://localhost:8080/"
        },
        "outputId": "1253057f-5efe-4926-fae5-de6b1ba3b464"
      },
      "outputs": [
        {
          "output_type": "stream",
          "name": "stdout",
          "text": [
            "[[25082     0 13034     0]\n",
            " [  182     0    96     0]\n",
            " [10939     0 18152     0]\n",
            " [ 4873     0  7142     0]]\n"
          ]
        },
        {
          "output_type": "stream",
          "name": "stderr",
          "text": [
            "/usr/local/lib/python3.8/dist-packages/sklearn/metrics/_classification.py:1318: UndefinedMetricWarning: Precision and F-score are ill-defined and being set to 0.0 in labels with no predicted samples. Use `zero_division` parameter to control this behavior.\n",
            "  _warn_prf(average, modifier, msg_start, len(result))\n",
            "/usr/local/lib/python3.8/dist-packages/sklearn/metrics/_classification.py:1318: UndefinedMetricWarning: Precision and F-score are ill-defined and being set to 0.0 in labels with no predicted samples. Use `zero_division` parameter to control this behavior.\n",
            "  _warn_prf(average, modifier, msg_start, len(result))\n"
          ]
        },
        {
          "output_type": "stream",
          "name": "stdout",
          "text": [
            "                    precision    recall  f1-score   support\n",
            "\n",
            "     -9998 unclear       0.61      0.66      0.63     38116\n",
            "-9999 missing name       0.00      0.00      0.00       278\n",
            "            0 male       0.47      0.62      0.54     29091\n",
            "          1 female       0.00      0.00      0.00     12015\n",
            "\n",
            "          accuracy                           0.54     79500\n",
            "         macro avg       0.27      0.32      0.29     79500\n",
            "      weighted avg       0.47      0.54      0.50     79500\n",
            "\n"
          ]
        },
        {
          "output_type": "stream",
          "name": "stderr",
          "text": [
            "/usr/local/lib/python3.8/dist-packages/sklearn/metrics/_classification.py:1318: UndefinedMetricWarning: Precision and F-score are ill-defined and being set to 0.0 in labels with no predicted samples. Use `zero_division` parameter to control this behavior.\n",
            "  _warn_prf(average, modifier, msg_start, len(result))\n"
          ]
        }
      ],
      "source": [
        "confusion_matrix_classification_report(y_test,dtree_predictions)\n"
      ]
    },
    {
      "cell_type": "markdown",
      "metadata": {
        "id": "BknXWqFrIYrg"
      },
      "source": [
        "## **MODEL 2- XGBOOST**"
      ]
    },
    {
      "cell_type": "code",
      "execution_count": null,
      "metadata": {
        "id": "SuF0OTpVIZh8"
      },
      "outputs": [],
      "source": [
        "model.fit(X_train, y_train)"
      ]
    },
    {
      "cell_type": "code",
      "execution_count": 42,
      "metadata": {
        "id": "m4fsPj1XIhbN"
      },
      "outputs": [],
      "source": [
        "preds = model.predict(X_test)"
      ]
    },
    {
      "cell_type": "code",
      "source": [
        "xgb_eval=evaluate_model( model, X_test, y_test)"
      ],
      "metadata": {
        "id": "LZsbbWRAw2ZX"
      },
      "execution_count": 43,
      "outputs": []
    },
    {
      "cell_type": "markdown",
      "metadata": {
        "id": "AKKs-PmgKBxP"
      },
      "source": [
        "**Performance Measure Using Confusion_Matrix and Classification Report**"
      ]
    },
    {
      "cell_type": "code",
      "execution_count": 44,
      "metadata": {
        "id": "kWfj6jIyKGDG",
        "colab": {
          "base_uri": "https://localhost:8080/"
        },
        "outputId": "2481eebb-a453-4b6c-c8ce-71059aff6c3f"
      },
      "outputs": [
        {
          "output_type": "stream",
          "name": "stdout",
          "text": [
            "[[28502     0  9614     0]\n",
            " [  212     0    66     0]\n",
            " [15062     0 14029     0]\n",
            " [ 6558     0  5457     0]]\n"
          ]
        },
        {
          "output_type": "stream",
          "name": "stderr",
          "text": [
            "/usr/local/lib/python3.8/dist-packages/sklearn/metrics/_classification.py:1318: UndefinedMetricWarning: Precision and F-score are ill-defined and being set to 0.0 in labels with no predicted samples. Use `zero_division` parameter to control this behavior.\n",
            "  _warn_prf(average, modifier, msg_start, len(result))\n",
            "/usr/local/lib/python3.8/dist-packages/sklearn/metrics/_classification.py:1318: UndefinedMetricWarning: Precision and F-score are ill-defined and being set to 0.0 in labels with no predicted samples. Use `zero_division` parameter to control this behavior.\n",
            "  _warn_prf(average, modifier, msg_start, len(result))\n"
          ]
        },
        {
          "output_type": "stream",
          "name": "stdout",
          "text": [
            "                    precision    recall  f1-score   support\n",
            "\n",
            "     -9998 unclear       0.57      0.75      0.64     38116\n",
            "-9999 missing name       0.00      0.00      0.00       278\n",
            "            0 male       0.48      0.48      0.48     29091\n",
            "          1 female       0.00      0.00      0.00     12015\n",
            "\n",
            "          accuracy                           0.53     79500\n",
            "         macro avg       0.26      0.31      0.28     79500\n",
            "      weighted avg       0.45      0.53      0.49     79500\n",
            "\n"
          ]
        },
        {
          "output_type": "stream",
          "name": "stderr",
          "text": [
            "/usr/local/lib/python3.8/dist-packages/sklearn/metrics/_classification.py:1318: UndefinedMetricWarning: Precision and F-score are ill-defined and being set to 0.0 in labels with no predicted samples. Use `zero_division` parameter to control this behavior.\n",
            "  _warn_prf(average, modifier, msg_start, len(result))\n"
          ]
        }
      ],
      "source": [
        "confusion_matrix_classification_report(y_test,preds)"
      ]
    },
    {
      "cell_type": "markdown",
      "metadata": {
        "id": "Iqp94N2LKT7c"
      },
      "source": [
        "## **MODEL 3- K-NearestNeighbours**"
      ]
    },
    {
      "cell_type": "code",
      "execution_count": 45,
      "metadata": {
        "id": "FUqvQ-z7Ke-n",
        "colab": {
          "base_uri": "https://localhost:8080/"
        },
        "outputId": "b03fe8b2-447d-44dc-c114-b473aaa1c233"
      },
      "outputs": [
        {
          "output_type": "execute_result",
          "data": {
            "text/plain": [
              "KNeighborsClassifier(n_neighbors=7)"
            ]
          },
          "metadata": {},
          "execution_count": 45
        }
      ],
      "source": [
        "knn.fit(X_train, y_train)"
      ]
    },
    {
      "cell_type": "markdown",
      "metadata": {
        "id": "SYRwucaGJ6N9"
      },
      "source": []
    },
    {
      "cell_type": "code",
      "execution_count": 46,
      "metadata": {
        "id": "jviCsqrAKgau"
      },
      "outputs": [],
      "source": [
        "predictions=knn.predict(X_test)"
      ]
    },
    {
      "cell_type": "code",
      "execution_count": 47,
      "metadata": {
        "id": "2zmLOKVlK8BH",
        "colab": {
          "base_uri": "https://localhost:8080/"
        },
        "outputId": "3d787c0b-06a4-4437-83f5-866b4976d79b"
      },
      "outputs": [
        {
          "output_type": "execute_result",
          "data": {
            "text/plain": [
              "0.5251194968553459"
            ]
          },
          "metadata": {},
          "execution_count": 47
        }
      ],
      "source": [
        "accuracy_score(y_test, predictions)"
      ]
    },
    {
      "cell_type": "code",
      "execution_count": 48,
      "metadata": {
        "id": "Q48a2-tTLvzA",
        "colab": {
          "base_uri": "https://localhost:8080/"
        },
        "outputId": "f9bbf6b5-ee14-421e-9bde-a912b37a2074"
      },
      "outputs": [
        {
          "output_type": "stream",
          "name": "stdout",
          "text": [
            "[[34072     0  3951    93]\n",
            " [  262     0    16     0]\n",
            " [21374     0  7603   114]\n",
            " [ 8550     0  3393    72]]\n"
          ]
        },
        {
          "output_type": "stream",
          "name": "stderr",
          "text": [
            "/usr/local/lib/python3.8/dist-packages/sklearn/metrics/_classification.py:1318: UndefinedMetricWarning: Precision and F-score are ill-defined and being set to 0.0 in labels with no predicted samples. Use `zero_division` parameter to control this behavior.\n",
            "  _warn_prf(average, modifier, msg_start, len(result))\n",
            "/usr/local/lib/python3.8/dist-packages/sklearn/metrics/_classification.py:1318: UndefinedMetricWarning: Precision and F-score are ill-defined and being set to 0.0 in labels with no predicted samples. Use `zero_division` parameter to control this behavior.\n",
            "  _warn_prf(average, modifier, msg_start, len(result))\n"
          ]
        },
        {
          "output_type": "stream",
          "name": "stdout",
          "text": [
            "                    precision    recall  f1-score   support\n",
            "\n",
            "     -9998 unclear       0.53      0.89      0.67     38116\n",
            "-9999 missing name       0.00      0.00      0.00       278\n",
            "            0 male       0.51      0.26      0.35     29091\n",
            "          1 female       0.26      0.01      0.01     12015\n",
            "\n",
            "          accuracy                           0.53     79500\n",
            "         macro avg       0.32      0.29      0.26     79500\n",
            "      weighted avg       0.48      0.53      0.45     79500\n",
            "\n"
          ]
        },
        {
          "output_type": "stream",
          "name": "stderr",
          "text": [
            "/usr/local/lib/python3.8/dist-packages/sklearn/metrics/_classification.py:1318: UndefinedMetricWarning: Precision and F-score are ill-defined and being set to 0.0 in labels with no predicted samples. Use `zero_division` parameter to control this behavior.\n",
            "  _warn_prf(average, modifier, msg_start, len(result))\n"
          ]
        }
      ],
      "source": [
        "confusion_matrix_classification_report(y_test,predictions)"
      ]
    },
    {
      "cell_type": "code",
      "source": [
        "knn_eval=evaluate_model( knn , X_test, y_test)"
      ],
      "metadata": {
        "id": "ZFsmnGgCw_A6"
      },
      "execution_count": 49,
      "outputs": []
    },
    {
      "cell_type": "markdown",
      "metadata": {
        "id": "5LDhL2DI8DVE"
      },
      "source": [
        "## **Model 4- LOGISTIC REGRESSION**"
      ]
    },
    {
      "cell_type": "code",
      "execution_count": null,
      "metadata": {
        "id": "-46HDFogL7j4"
      },
      "outputs": [],
      "source": [
        "classifier.fit(X_train, y_train)"
      ]
    },
    {
      "cell_type": "code",
      "execution_count": 51,
      "metadata": {
        "id": "Erw4wCm28PzO"
      },
      "outputs": [],
      "source": [
        "y_predictions= classifier.predict(X_test)"
      ]
    },
    {
      "cell_type": "code",
      "execution_count": 52,
      "metadata": {
        "id": "1wP5_kti8VBN",
        "colab": {
          "base_uri": "https://localhost:8080/"
        },
        "outputId": "c89aa89a-7f8f-4b0f-b4ae-ba99abadf329"
      },
      "outputs": [
        {
          "output_type": "stream",
          "name": "stdout",
          "text": [
            "[[34072     0  3951    93]\n",
            " [  262     0    16     0]\n",
            " [21374     0  7603   114]\n",
            " [ 8550     0  3393    72]]\n"
          ]
        },
        {
          "output_type": "stream",
          "name": "stderr",
          "text": [
            "/usr/local/lib/python3.8/dist-packages/sklearn/metrics/_classification.py:1318: UndefinedMetricWarning: Precision and F-score are ill-defined and being set to 0.0 in labels with no predicted samples. Use `zero_division` parameter to control this behavior.\n",
            "  _warn_prf(average, modifier, msg_start, len(result))\n",
            "/usr/local/lib/python3.8/dist-packages/sklearn/metrics/_classification.py:1318: UndefinedMetricWarning: Precision and F-score are ill-defined and being set to 0.0 in labels with no predicted samples. Use `zero_division` parameter to control this behavior.\n",
            "  _warn_prf(average, modifier, msg_start, len(result))\n"
          ]
        },
        {
          "output_type": "stream",
          "name": "stdout",
          "text": [
            "                    precision    recall  f1-score   support\n",
            "\n",
            "     -9998 unclear       0.53      0.89      0.67     38116\n",
            "-9999 missing name       0.00      0.00      0.00       278\n",
            "            0 male       0.51      0.26      0.35     29091\n",
            "          1 female       0.26      0.01      0.01     12015\n",
            "\n",
            "          accuracy                           0.53     79500\n",
            "         macro avg       0.32      0.29      0.26     79500\n",
            "      weighted avg       0.48      0.53      0.45     79500\n",
            "\n"
          ]
        },
        {
          "output_type": "stream",
          "name": "stderr",
          "text": [
            "/usr/local/lib/python3.8/dist-packages/sklearn/metrics/_classification.py:1318: UndefinedMetricWarning: Precision and F-score are ill-defined and being set to 0.0 in labels with no predicted samples. Use `zero_division` parameter to control this behavior.\n",
            "  _warn_prf(average, modifier, msg_start, len(result))\n"
          ]
        }
      ],
      "source": [
        "confusion_matrix_classification_report(y_test,predictions)"
      ]
    },
    {
      "cell_type": "code",
      "source": [
        "logi_eval=evaluate_model( classifier , X_test, y_test)"
      ],
      "metadata": {
        "id": "mW5TuYy1xDvc"
      },
      "execution_count": 53,
      "outputs": []
    },
    {
      "cell_type": "code",
      "source": [],
      "metadata": {
        "id": "O1V4odfk_GGD"
      },
      "execution_count": 53,
      "outputs": []
    },
    {
      "cell_type": "markdown",
      "source": [
        "## **Graphical evaluation of various models based on the corresponding Precision,Recall,F1Score and Accuracy.**"
      ],
      "metadata": {
        "id": "KzLdMVSV_E2X"
      }
    },
    {
      "cell_type": "code",
      "source": [
        "data_evaluation_model=[['Precision',dtc_eval['prec'],xgb_eval['prec'],logi_eval['prec'],knn_eval['prec']],\n",
        "     ['Recall',dtc_eval['rec'],xgb_eval['rec'],logi_eval['rec'],knn_eval['rec']],\n",
        "     ['F1Score',dtc_eval['f1'],xgb_eval['f1'],logi_eval['f1'],knn_eval['f1']],\n",
        "     ['Accuracy',dtc_eval['acc'],xgb_eval['acc'],logi_eval['acc'],knn_eval['acc']]]\n",
        "\n",
        "\n",
        "df=pd.DataFrame(data_evaluation_model,columns=[\"Name\",\"Decision Tree\",\"XGBoost\",\"Logistic\",\"KNN\"])\n",
        "df.plot(x=\"Name\", y=[\"Decision Tree\",\"XGBoost\",\"Logistic\",\"KNN\"], kind=\"bar\",figsize=(14,12))"
      ],
      "metadata": {
        "colab": {
          "base_uri": "https://localhost:8080/",
          "height": 768
        },
        "id": "2pWjKebSxH4h",
        "outputId": "9bdfaeb7-fd0e-4f6a-9542-7053c9973846"
      },
      "execution_count": 54,
      "outputs": [
        {
          "output_type": "execute_result",
          "data": {
            "text/plain": [
              "<matplotlib.axes._subplots.AxesSubplot at 0x7f57a00efca0>"
            ]
          },
          "metadata": {},
          "execution_count": 54
        },
        {
          "output_type": "display_data",
          "data": {
            "text/plain": [
              "<Figure size 1008x864 with 1 Axes>"
            ],
            "image/png": "[encoded data removed]"
          },
          "metadata": {
            "needs_background": "light"
          }
        }
      ]
    },
    {
      "cell_type": "markdown",
      "source": [
        "# **Conclusion**"
      ],
      "metadata": {
        "id": "--1YZA-56ymJ"
      }
    },
    {
      "cell_type": "markdown",
      "source": [
        "The following insights can be drawn from this :-<br>\n",
        "<br>**Classification Problem 1**\n",
        "<br>\n",
        "<br>1.We have performed classification on the given data to predict the gender of defendant(0-male,1-female,2-uncleaer). We have used the data in 'judge_position column' as an independent variable to predict the corresponpding gender of the petitioner. The model has shown about 64% of accuracy. \n",
        "<br>2. We see that KNN model has performed the worst, and all the other models are almost at par with each other.\n",
        "<br>3.We know that XGBoost is a strong model, but it takes a lot of time to execute. Here, we see that XGBoost,Decision Tree and Logistic Regression have the same accuracy score. Hence, to save time, we can use the latter two instead of XGBoost.\n",
        "<br>\n",
        "<br>**Classification Problem 2**\n",
        "<br>\n",
        "<br>1.We have performed classification on the given data to predict the gender of petitoner(0-male,1-female,2-uncleaer). We have used the data in 'judge_position column' as an independent variable to predict the corresponpding gender of the petitioner. The model has shown about 64% of accuracy.\n",
        "<br> 2.From the graphical representation of model performance, we can see that KNN has not performed well again. Hence, we can say that KNN is not a good classifer model when compared to Logistic,Decision Tree and XGBoost.\n",
        "<br>3. From the confusion matrix, we can se that Decision Tree and XGBoost have performed well in the task with more accuracy.\n"
      ],
      "metadata": {
        "id": "LPSPwrIt6xKK"
      }
    }
  ],
  "metadata": {
    "colab": {
      "provenance": [],
      "collapsed_sections": [
        "PS8Eo7S_CHQn",
        "QBaZGd9cRF6q",
        "BknXWqFrIYrg",
        "Iqp94N2LKT7c",
        "5LDhL2DI8DVE"
      ]
    },
    "kernelspec": {
      "display_name": "Python 3",
      "name": "python3"
    },
    "language_info": {
      "name": "python"
    }
  },
  "nbformat": 4,
  "nbformat_minor": 0
}